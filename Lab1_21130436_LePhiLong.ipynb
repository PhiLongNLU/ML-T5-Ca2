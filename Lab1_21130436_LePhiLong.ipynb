{
  "nbformat": 4,
  "nbformat_minor": 0,
  "metadata": {
    "colab": {
      "provenance": [],
      "authorship_tag": "ABX9TyNhoS0nrr1nz9Gqup1tTO/C",
      "include_colab_link": true
    },
    "kernelspec": {
      "name": "python3",
      "display_name": "Python 3"
    },
    "language_info": {
      "name": "python"
    }
  },
  "cells": [
    {
      "cell_type": "markdown",
      "metadata": {
        "id": "view-in-github",
        "colab_type": "text"
      },
      "source": [
        "<a href=\"https://colab.research.google.com/github/PhiLongNLU/ML-T5-Ca2/blob/main/Lab1_21130436_LePhiLong.ipynb\" target=\"_parent\"><img src=\"https://colab.research.google.com/assets/colab-badge.svg\" alt=\"Open In Colab\"/></a>"
      ]
    },
    {
      "cell_type": "code",
      "execution_count": 17,
      "metadata": {
        "colab": {
          "base_uri": "https://localhost:8080/"
        },
        "id": "EH8laG7W0G3n",
        "outputId": "4de15ea7-ffef-4400-d777-afb28028183c"
      },
      "outputs": [
        {
          "output_type": "stream",
          "name": "stdout",
          "text": [
            "nhap so n : 3\n",
            "nhap so -1\n",
            "nhap so -4\n",
            "nhap so 1\n",
            "Max :  1\n",
            "Min :  -4\n",
            "Positive :  1\n",
            "Negative :  2\n",
            "Sort :  [-1, -4, 1]\n"
          ]
        }
      ],
      "source": [
        "n = int(input(\"nhap so n : \"))\n",
        "arrays = []\n",
        "i = 0\n",
        "while(i < n):\n",
        "  arrays.append(int(input(\"nhap so \")))\n",
        "  i+=1\n",
        "\n",
        "positive = 0\n",
        "negative = 0\n",
        "for x in arrays :\n",
        "  if(x < 0) : negative+=1\n",
        "  else : positive += 1\n",
        "\n",
        "import numpy as np\n",
        "np.sort(arrays)\n",
        "\n",
        "print(\"Max : \" , max(arrays))\n",
        "print(\"Min : \" , min(arrays))\n",
        "print(\"Positive : \" , positive)\n",
        "print(\"Negative : \", negative)\n",
        "print(\"Sort : \" , arrays)\n"
      ]
    },
    {
      "cell_type": "code",
      "source": [
        "def multipleX(n):\n",
        "  result = 1\n",
        "  x = 1\n",
        "  while(x <= n ):\n",
        "    result *= x\n",
        "    x += 1\n",
        "  return result\n",
        "def sumS(n):\n",
        "  x = 1\n",
        "  result = 0\n",
        "  while x <= n :\n",
        "    result  += multipleX(x)\n",
        "    x += 1\n",
        "  return result\n",
        "\n",
        "print(\"Sum : \" , sumS(5))"
      ],
      "metadata": {
        "id": "mcMZo11F8HpU",
        "colab": {
          "base_uri": "https://localhost:8080/"
        },
        "outputId": "fd9375a6-1f24-4b05-c2f1-d369e94678e0"
      },
      "execution_count": 22,
      "outputs": [
        {
          "output_type": "stream",
          "name": "stdout",
          "text": [
            "Sum :  153\n"
          ]
        }
      ]
    },
    {
      "cell_type": "code",
      "source": [
        "\n",
        "\n",
        "class Post :\n",
        "    content = \"\"\n",
        "    subject = \"\"\n",
        "    likes = 0\n",
        "\n",
        "    def __init__(self, content , subject , likes):\n",
        "      self.content = content\n",
        "      self.subject = subject\n",
        "      self.likes = likes\n",
        "\n",
        "class Account :\n",
        "  #constructor\n",
        "  name = \"\"\n",
        "  email = \"\"\n",
        "  country = \"\"\n",
        "  friends = list(Account)\n",
        "  post = list(Post)\n",
        "\n",
        "  def __init__(self , name , email , country , friends , post):\n",
        "    self.name = name\n",
        "    self.email = email\n",
        "    self.country = country\n",
        "    self.friends = friends\n",
        "    self.post = post\n",
        "\n",
        "  def getLikePost(self):\n",
        "    return getattr(self.post, \"likes\")\n",
        "\n",
        "  def getMaxLikePostByFriend(self):\n",
        "    max = 0\n",
        "    for friend in self.friends\n",
        "    if(max < friend.getLikePost()) :\n",
        "      max = friend.getLikePost()\n",
        "    return max\n",
        "\n",
        "class AccountManager :\n",
        "    accounts = list(Account)\n",
        "    def __init__(self , accounts):\n",
        "      self.accounts = accounts\n",
        "    def groupAccountsByPostLike(self):\n",
        "      map = map(bool , Account)\n",
        "\n"
      ],
      "metadata": {
        "id": "LWXzLjVD52-8"
      },
      "execution_count": 24,
      "outputs": []
    }
  ]
}